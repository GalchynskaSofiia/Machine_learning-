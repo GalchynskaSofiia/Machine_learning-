{
  "nbformat": 4,
  "nbformat_minor": 0,
  "metadata": {
    "colab": {
      "provenance": []
    },
    "kernelspec": {
      "name": "python3",
      "display_name": "Python 3"
    },
    "language_info": {
      "name": "python"
    }
  },
  "cells": [
    {
      "cell_type": "markdown",
      "source": [
        "**Лабораторна робота 1. Вступ до машинного навчання. Елементи лінійної алгебри.\n",
        "Варіант 4**"
      ],
      "metadata": {
        "id": "Z0QsKZNp8ZTy"
      }
    },
    {
      "cell_type": "code",
      "source": [
        "import numpy as np\n",
        "np.__version__"
      ],
      "metadata": {
        "colab": {
          "base_uri": "https://localhost:8080/",
          "height": 35
        },
        "id": "TgO5CDU7A7YA",
        "outputId": "36bed53c-9ac2-497f-e6c2-92ed2394df26"
      },
      "execution_count": 2,
      "outputs": [
        {
          "output_type": "execute_result",
          "data": {
            "text/plain": [
              "'2.0.2'"
            ],
            "application/vnd.google.colaboratory.intrinsic+json": {
              "type": "string"
            }
          },
          "metadata": {},
          "execution_count": 2
        }
      ]
    },
    {
      "cell_type": "markdown",
      "source": [
        "**Завдання 1.** Створіть одновимірний масив (вектор) з непарними числами від 1 до 19 та виведіть його значення."
      ],
      "metadata": {
        "id": "NBOsR47C9hUL"
      }
    },
    {
      "cell_type": "code",
      "execution_count": 3,
      "metadata": {
        "colab": {
          "base_uri": "https://localhost:8080/"
        },
        "id": "2g4bAswS8WAF",
        "outputId": "103c3757-2525-4997-89d5-cc90b86fc0c7"
      },
      "outputs": [
        {
          "output_type": "execute_result",
          "data": {
            "text/plain": [
              "array([ 1,  3,  5,  7,  9, 11, 13, 15, 17, 19])"
            ]
          },
          "metadata": {},
          "execution_count": 3
        }
      ],
      "source": [
        "vector = np.arange(1, 20, 2)\n",
        "vector"
      ]
    },
    {
      "cell_type": "markdown",
      "source": [
        "**Завдання 2.** Створіть двовимірний масив (матрицю) розміром 3x3, заповніть його послідовністю чисел, де кожне наступне число більше попереднього на 2, та виведіть його значення."
      ],
      "metadata": {
        "id": "ht43vPoC92Ve"
      }
    },
    {
      "cell_type": "code",
      "source": [
        "#arange  формує вектор з 9 елементів - послідовність елементів, де кожне число більше на 2, а reshape формує з вектора матрицю розміром 3*3.\n",
        "matrix2 = np.arange(1, 19, 2).reshape(3, 3)\n",
        "matrix2"
      ],
      "metadata": {
        "colab": {
          "base_uri": "https://localhost:8080/"
        },
        "id": "UwRNf--S9-HG",
        "outputId": "60bf264c-64b7-4608-d817-bd0b10e4f974"
      },
      "execution_count": 9,
      "outputs": [
        {
          "output_type": "execute_result",
          "data": {
            "text/plain": [
              "array([[ 1,  3,  5],\n",
              "       [ 7,  9, 11],\n",
              "       [13, 15, 17]])"
            ]
          },
          "metadata": {},
          "execution_count": 9
        }
      ]
    },
    {
      "cell_type": "markdown",
      "source": [
        "**Завдання 3.** Створіть масив розміром 2x2, заповніть його випадковими цілими числами від -5 до 5 та виведіть його значення."
      ],
      "metadata": {
        "id": "CVIcHj1M9-0N"
      }
    },
    {
      "cell_type": "code",
      "source": [
        "matrix3 = np.random.randint(-5, 6, size=(2, 2))\n",
        "matrix3"
      ],
      "metadata": {
        "colab": {
          "base_uri": "https://localhost:8080/"
        },
        "id": "mIyIJE-8-MyF",
        "outputId": "7bac99a7-84f2-4293-9762-67ea825fa0c1"
      },
      "execution_count": 5,
      "outputs": [
        {
          "output_type": "execute_result",
          "data": {
            "text/plain": [
              "array([[2, 3],\n",
              "       [5, 4]])"
            ]
          },
          "metadata": {},
          "execution_count": 5
        }
      ]
    },
    {
      "cell_type": "markdown",
      "source": [
        "**Завдання 4.** Створіть масив розміром 6x6, заповніть його випадковими дійсними числами в діапазоні від 0 до 1 та знайдіть максимальний елемент."
      ],
      "metadata": {
        "id": "O5mK4-pF-NKl"
      }
    },
    {
      "cell_type": "code",
      "source": [
        "# виводимо матрицю 6*6, що заповнена випадковими дійсними числами в діапазоні від 0 до 1\n",
        "matrix4 = np.random.rand(6, 6)\n",
        "matrix4"
      ],
      "metadata": {
        "colab": {
          "base_uri": "https://localhost:8080/"
        },
        "id": "NfgHSYiu-Xy1",
        "outputId": "fdf627d4-7831-4524-d072-1ea6e898d7d4"
      },
      "execution_count": 10,
      "outputs": [
        {
          "output_type": "execute_result",
          "data": {
            "text/plain": [
              "array([[0.32791048, 0.25243209, 0.15405757, 0.22561868, 0.43350055,\n",
              "        0.1982433 ],\n",
              "       [0.49114947, 0.77973795, 0.66871869, 0.19338989, 0.86523304,\n",
              "        0.46922316],\n",
              "       [0.48787711, 0.12200416, 0.54113796, 0.72661358, 0.47664587,\n",
              "        0.65315371],\n",
              "       [0.60322303, 0.4824086 , 0.50689044, 0.94510133, 0.60292669,\n",
              "        0.10197275],\n",
              "       [0.76500851, 0.00399029, 0.34922926, 0.15005821, 0.93272856,\n",
              "        0.93046024],\n",
              "       [0.27027126, 0.95359148, 0.06781524, 0.27175334, 0.66124145,\n",
              "        0.52224859]])"
            ]
          },
          "metadata": {},
          "execution_count": 10
        }
      ]
    },
    {
      "cell_type": "code",
      "source": [
        "matrix4.max()"
      ],
      "metadata": {
        "colab": {
          "base_uri": "https://localhost:8080/"
        },
        "id": "jiyVJS16EZCj",
        "outputId": "b511830e-ab51-4ebe-ff21-5a2ed96e6beb"
      },
      "execution_count": 11,
      "outputs": [
        {
          "output_type": "execute_result",
          "data": {
            "text/plain": [
              "np.float64(0.9535914765565938)"
            ]
          },
          "metadata": {},
          "execution_count": 11
        }
      ]
    },
    {
      "cell_type": "markdown",
      "source": [
        "**Завдання 5.** Створіть два одновимірних масиви розміром 4, заповніть їх випадковими цілими числами в діапазоні від -5 до 5 та виконайте на них поелементні операції додавання, віднімання та множення."
      ],
      "metadata": {
        "id": "HCeH_KBp-YIt"
      }
    },
    {
      "cell_type": "code",
      "source": [
        "#перший одновимірний масив\n",
        "matrix5_1 = np.random.randint(-5, 6, size=4)\n",
        "matrix5_1"
      ],
      "metadata": {
        "colab": {
          "base_uri": "https://localhost:8080/"
        },
        "id": "PC9ZAOzH-hRp",
        "outputId": "7b4fcfd8-bec8-44a2-8212-d65b6b8a6e89"
      },
      "execution_count": 12,
      "outputs": [
        {
          "output_type": "execute_result",
          "data": {
            "text/plain": [
              "array([ 5,  0, -5, -4])"
            ]
          },
          "metadata": {},
          "execution_count": 12
        }
      ]
    },
    {
      "cell_type": "code",
      "source": [
        "#другий одновимірний масив\n",
        "matrix5_2 = np.random.randint(-5, 6, size=4)\n",
        "matrix5_2"
      ],
      "metadata": {
        "colab": {
          "base_uri": "https://localhost:8080/"
        },
        "id": "Ij-eub6jFEQm",
        "outputId": "f115b32a-8c31-4309-fac8-97947eb4ae8d"
      },
      "execution_count": 13,
      "outputs": [
        {
          "output_type": "execute_result",
          "data": {
            "text/plain": [
              "array([-5,  5, -1,  3])"
            ]
          },
          "metadata": {},
          "execution_count": 13
        }
      ]
    },
    {
      "cell_type": "code",
      "source": [
        "#операція додавання\n",
        "matrix5_1 + matrix5_2"
      ],
      "metadata": {
        "colab": {
          "base_uri": "https://localhost:8080/"
        },
        "id": "E-5_pAPcFL33",
        "outputId": "7f9dbd82-aa2d-4d1b-faef-ecca9e9f0745"
      },
      "execution_count": 14,
      "outputs": [
        {
          "output_type": "execute_result",
          "data": {
            "text/plain": [
              "array([ 0,  5, -6, -1])"
            ]
          },
          "metadata": {},
          "execution_count": 14
        }
      ]
    },
    {
      "cell_type": "code",
      "source": [
        "#операція віднімання\n",
        "matrix5_1 - matrix5_2"
      ],
      "metadata": {
        "colab": {
          "base_uri": "https://localhost:8080/"
        },
        "id": "0RaS1R8uFRbe",
        "outputId": "37384d15-3e01-4a2d-9d0c-847424bfc7c0"
      },
      "execution_count": 15,
      "outputs": [
        {
          "output_type": "execute_result",
          "data": {
            "text/plain": [
              "array([10, -5, -4, -7])"
            ]
          },
          "metadata": {},
          "execution_count": 15
        }
      ]
    },
    {
      "cell_type": "code",
      "source": [
        "#операція поелементного множення\n",
        "matrix5_1 * matrix5_2"
      ],
      "metadata": {
        "colab": {
          "base_uri": "https://localhost:8080/"
        },
        "id": "h3ISwG6rFUYN",
        "outputId": "1a65eb59-0cfa-468c-9087-dd1b7b32b215"
      },
      "execution_count": 16,
      "outputs": [
        {
          "output_type": "execute_result",
          "data": {
            "text/plain": [
              "array([-25,   0,   5, -12])"
            ]
          },
          "metadata": {},
          "execution_count": 16
        }
      ]
    },
    {
      "cell_type": "markdown",
      "source": [
        "**Завдання 6.** Створіть дві матриці 2x2, заповніть їх довільними дійсними числами від 5 до 10 та знайдіть їх добуток."
      ],
      "metadata": {
        "id": "B9eo7RCW-huR"
      }
    },
    {
      "cell_type": "code",
      "source": [
        "#перша матриця\n",
        "matrix6_1 = np.random.uniform(5, 10, size=(2, 2))\n",
        "matrix6_1"
      ],
      "metadata": {
        "colab": {
          "base_uri": "https://localhost:8080/"
        },
        "id": "x6wOwyIS-r8B",
        "outputId": "9cc12a5d-839c-4943-ce65-edb171173873"
      },
      "execution_count": 21,
      "outputs": [
        {
          "output_type": "execute_result",
          "data": {
            "text/plain": [
              "array([[6.9289982 , 9.32038772],\n",
              "       [6.12870607, 5.78482703]])"
            ]
          },
          "metadata": {},
          "execution_count": 21
        }
      ]
    },
    {
      "cell_type": "code",
      "source": [
        "#друга матриця\n",
        "matrix6_2 = np.random.uniform(5, 10, size=(2, 2))\n",
        "matrix6_2"
      ],
      "metadata": {
        "colab": {
          "base_uri": "https://localhost:8080/"
        },
        "id": "OVfvEYBOHOLR",
        "outputId": "789dc7c2-98d9-47a0-9c0b-9d04ee4f9fe2"
      },
      "execution_count": 24,
      "outputs": [
        {
          "output_type": "execute_result",
          "data": {
            "text/plain": [
              "array([[8.16040365, 8.2430912 ],\n",
              "       [7.11755471, 6.45279695]])"
            ]
          },
          "metadata": {},
          "execution_count": 24
        }
      ]
    },
    {
      "cell_type": "code",
      "source": [
        "#добуток матриць\n",
        "np.dot(matrix6_1, matrix6_2)"
      ],
      "metadata": {
        "colab": {
          "base_uri": "https://localhost:8080/"
        },
        "id": "oHN2O3w-IK3B",
        "outputId": "d04b8c1c-c93b-4a16-89f8-3f6fb147a319"
      },
      "execution_count": 25,
      "outputs": [
        {
          "output_type": "execute_result",
          "data": {
            "text/plain": [
              "array([[122.88179176, 117.25893361],\n",
              "       [ 91.18653822,  87.84779728]])"
            ]
          },
          "metadata": {},
          "execution_count": 25
        }
      ]
    },
    {
      "cell_type": "markdown",
      "source": [
        "**Завдання 7.** Створіть дві матриці розміром 2x3 та 3x3, заповніть їх випадковими цілими числами в діапазоні від 1 до 5 та перемножте їх між собою."
      ],
      "metadata": {
        "id": "cdke0XxQ-sMR"
      }
    },
    {
      "cell_type": "code",
      "source": [
        "#перша матриця\n",
        "matrix7_1 = np.random.randint(1, 6, size=(2, 3))\n",
        "matrix7_1"
      ],
      "metadata": {
        "colab": {
          "base_uri": "https://localhost:8080/"
        },
        "id": "j6T-qrCB-4UA",
        "outputId": "ed71829d-f13b-4689-dbb1-65f9f00f18b6"
      },
      "execution_count": 26,
      "outputs": [
        {
          "output_type": "execute_result",
          "data": {
            "text/plain": [
              "array([[5, 5, 4],\n",
              "       [1, 2, 1]])"
            ]
          },
          "metadata": {},
          "execution_count": 26
        }
      ]
    },
    {
      "cell_type": "code",
      "source": [
        "#друга матриця\n",
        "matrix7_2 = np.random.randint(1, 6, size=(3, 3))\n",
        "matrix7_2"
      ],
      "metadata": {
        "colab": {
          "base_uri": "https://localhost:8080/"
        },
        "id": "2Ak2_7zBJF6M",
        "outputId": "36478fa3-17d4-45d4-93c6-cdbc7c4aa307"
      },
      "execution_count": 27,
      "outputs": [
        {
          "output_type": "execute_result",
          "data": {
            "text/plain": [
              "array([[3, 5, 1],\n",
              "       [3, 5, 5],\n",
              "       [1, 3, 5]])"
            ]
          },
          "metadata": {},
          "execution_count": 27
        }
      ]
    },
    {
      "cell_type": "code",
      "source": [
        "#добуток матриць\n",
        "np.dot(matrix7_1, matrix7_2)"
      ],
      "metadata": {
        "colab": {
          "base_uri": "https://localhost:8080/"
        },
        "id": "IivZqHn_JQ7g",
        "outputId": "b6de419a-d7b2-40d2-8574-52c7c2af50be"
      },
      "execution_count": 28,
      "outputs": [
        {
          "output_type": "execute_result",
          "data": {
            "text/plain": [
              "array([[34, 62, 50],\n",
              "       [10, 18, 16]])"
            ]
          },
          "metadata": {},
          "execution_count": 28
        }
      ]
    },
    {
      "cell_type": "markdown",
      "source": [
        "**Завдання 8.** Створіть матрицю розміром 3x3, заповніть її випадковими цілими числами в діапазоні від 1 до 15 та знайдіть її обернену матрицю."
      ],
      "metadata": {
        "id": "6NGEvBnh-4lp"
      }
    },
    {
      "cell_type": "code",
      "source": [
        "#звичайна матриця\n",
        "matrix8 = np.random.randint(1, 16, size=(3, 3))\n",
        "matrix8"
      ],
      "metadata": {
        "colab": {
          "base_uri": "https://localhost:8080/"
        },
        "id": "GTjuleri--xF",
        "outputId": "b4adc32f-3bce-43a5-d44e-0495cf59ecb3"
      },
      "execution_count": 34,
      "outputs": [
        {
          "output_type": "execute_result",
          "data": {
            "text/plain": [
              "array([[11,  4,  6],\n",
              "       [ 7,  8,  4],\n",
              "       [13, 11, 12]])"
            ]
          },
          "metadata": {},
          "execution_count": 34
        }
      ]
    },
    {
      "cell_type": "code",
      "source": [
        "#обернена матриця\n",
        "np.linalg.inv(matrix8)"
      ],
      "metadata": {
        "colab": {
          "base_uri": "https://localhost:8080/"
        },
        "id": "HJ11QBLsJ2h8",
        "outputId": "2702bbd2-1b57-40c4-d9ba-cf4da5d1663e"
      },
      "execution_count": 35,
      "outputs": [
        {
          "output_type": "execute_result",
          "data": {
            "text/plain": [
              "array([[ 0.18439716,  0.06382979, -0.11347518],\n",
              "       [-0.11347518,  0.19148936, -0.0070922 ],\n",
              "       [-0.09574468, -0.24468085,  0.21276596]])"
            ]
          },
          "metadata": {},
          "execution_count": 35
        }
      ]
    },
    {
      "cell_type": "markdown",
      "source": [
        "**Завдання 9.** Створіть матрицю розміром 7x4, заповніть її випадковими дійсними числами в діапазоні від 0 до 1 та транспонуйте її."
      ],
      "metadata": {
        "id": "N7C0LnZZ-_AR"
      }
    },
    {
      "cell_type": "code",
      "source": [
        "#матриця розміром 7x4\n",
        "matrix9 = np.random.rand(7, 4)\n",
        "matrix9"
      ],
      "metadata": {
        "colab": {
          "base_uri": "https://localhost:8080/"
        },
        "id": "Qxs06LQS_Ri8",
        "outputId": "bb38d208-e9b6-4187-f06f-8dc159c8f910"
      },
      "execution_count": 37,
      "outputs": [
        {
          "output_type": "execute_result",
          "data": {
            "text/plain": [
              "array([[0.27890981, 0.13805786, 0.09477045, 0.31356046],\n",
              "       [0.66607087, 0.8072096 , 0.03510711, 0.61464454],\n",
              "       [0.60403986, 0.52840069, 0.55284335, 0.29932871],\n",
              "       [0.3916108 , 0.12439028, 0.42370662, 0.67726733],\n",
              "       [0.16120199, 0.85429769, 0.12753267, 0.12179078],\n",
              "       [0.368359  , 0.41975139, 0.93185031, 0.20174714],\n",
              "       [0.78058639, 0.64786176, 0.9910387 , 0.91183013]])"
            ]
          },
          "metadata": {},
          "execution_count": 37
        }
      ]
    },
    {
      "cell_type": "code",
      "source": [
        "#транспонована матриця\n",
        "matrix9.T"
      ],
      "metadata": {
        "colab": {
          "base_uri": "https://localhost:8080/"
        },
        "id": "OqjkCIaAMHf4",
        "outputId": "0f00974a-1d1b-42cb-dd7f-e69261241359"
      },
      "execution_count": 38,
      "outputs": [
        {
          "output_type": "execute_result",
          "data": {
            "text/plain": [
              "array([[0.27890981, 0.66607087, 0.60403986, 0.3916108 , 0.16120199,\n",
              "        0.368359  , 0.78058639],\n",
              "       [0.13805786, 0.8072096 , 0.52840069, 0.12439028, 0.85429769,\n",
              "        0.41975139, 0.64786176],\n",
              "       [0.09477045, 0.03510711, 0.55284335, 0.42370662, 0.12753267,\n",
              "        0.93185031, 0.9910387 ],\n",
              "       [0.31356046, 0.61464454, 0.29932871, 0.67726733, 0.12179078,\n",
              "        0.20174714, 0.91183013]])"
            ]
          },
          "metadata": {},
          "execution_count": 38
        }
      ]
    },
    {
      "cell_type": "markdown",
      "source": [
        "**Завдання 10.** Створіть матрицю розміром 3x4 та вектор розміром 4x1, заповніть матрицю випадковими цілими числами в діапазоні від 1 до 10, а вектор - випадковими дійсними числами від 0 до 1, і знайдіть добуток матриці на вектор."
      ],
      "metadata": {
        "id": "Kd2Rnpdw_R3U"
      }
    },
    {
      "cell_type": "code",
      "source": [
        "#матриця розміром 3x4, що заповнена цілими числами від 1 до 10\n",
        "matrix10 = np.random.randint(1, 11, size=(3, 4))\n",
        "matrix10"
      ],
      "metadata": {
        "colab": {
          "base_uri": "https://localhost:8080/"
        },
        "id": "_JtZHSbg_apE",
        "outputId": "4d188c4f-e932-49eb-b88d-8d7133cc60cc"
      },
      "execution_count": 40,
      "outputs": [
        {
          "output_type": "execute_result",
          "data": {
            "text/plain": [
              "array([[ 4,  2, 10, 10],\n",
              "       [ 2,  1,  2,  2],\n",
              "       [ 3,  7,  8,  1]])"
            ]
          },
          "metadata": {},
          "execution_count": 40
        }
      ]
    },
    {
      "cell_type": "code",
      "source": [
        "#вектор розміром 4x1, що заповнений дійсними числами від 0 до 1\n",
        "vector10 = np.random.rand(4, 1)\n",
        "vector10"
      ],
      "metadata": {
        "colab": {
          "base_uri": "https://localhost:8080/"
        },
        "id": "WZFhkYGMMYdP",
        "outputId": "c5960930-cb22-45db-c096-a2c277d7be44"
      },
      "execution_count": 39,
      "outputs": [
        {
          "output_type": "execute_result",
          "data": {
            "text/plain": [
              "array([[0.21192352],\n",
              "       [0.75352873],\n",
              "       [0.25772775],\n",
              "       [0.38367666]])"
            ]
          },
          "metadata": {},
          "execution_count": 39
        }
      ]
    },
    {
      "cell_type": "code",
      "source": [
        "#добуток матриць\n",
        "np.dot(matrix10, vector10)"
      ],
      "metadata": {
        "colab": {
          "base_uri": "https://localhost:8080/"
        },
        "id": "g8dYeJDVMYyX",
        "outputId": "d57fb1be-4f7e-4361-fe14-efb6ca8b408e"
      },
      "execution_count": 41,
      "outputs": [
        {
          "output_type": "execute_result",
          "data": {
            "text/plain": [
              "array([[8.7687957 ],\n",
              "       [2.46018461],\n",
              "       [8.35597039]])"
            ]
          },
          "metadata": {},
          "execution_count": 41
        }
      ]
    },
    {
      "cell_type": "markdown",
      "source": [
        "**Завдання 11.** Створіть матрицю розміром 2x3 та вектор розміром 3x1, заповніть матрицю випадковими дійсними числами від 0 до 1, а вектор - випадковими дійсними числами від 0 до 1, і знайдіть добуток матриці на вектор."
      ],
      "metadata": {
        "id": "pA80j9KP_a6c"
      }
    },
    {
      "cell_type": "code",
      "source": [
        "#матриця розміром 2x3, що заповнена дійсними числами від 0 до 1\n",
        "matrix11 = np.random.rand(2, 3)\n",
        "matrix11"
      ],
      "metadata": {
        "colab": {
          "base_uri": "https://localhost:8080/"
        },
        "id": "R9nggvkT_gWF",
        "outputId": "8119df04-b994-43e2-e2c6-7982d8f2cd9a"
      },
      "execution_count": 42,
      "outputs": [
        {
          "output_type": "execute_result",
          "data": {
            "text/plain": [
              "array([[0.60714815, 0.20488455, 0.12064558],\n",
              "       [0.32446673, 0.12486674, 0.31202213]])"
            ]
          },
          "metadata": {},
          "execution_count": 42
        }
      ]
    },
    {
      "cell_type": "code",
      "source": [
        "#вектор розміром 3x1, що заповнений дійсними числами від 0 до 1\n",
        "vector11 = np.random.rand(3, 1)\n",
        "vector11"
      ],
      "metadata": {
        "colab": {
          "base_uri": "https://localhost:8080/"
        },
        "id": "mXjpH6QJOa4P",
        "outputId": "8641134d-0c36-4c79-81c2-100e3f3202c2"
      },
      "execution_count": 43,
      "outputs": [
        {
          "output_type": "execute_result",
          "data": {
            "text/plain": [
              "array([[0.96474985],\n",
              "       [0.17055103],\n",
              "       [0.22562969]])"
            ]
          },
          "metadata": {},
          "execution_count": 43
        }
      ]
    },
    {
      "cell_type": "code",
      "source": [
        "#добуток матриць\n",
        "np.dot(matrix11, vector11)"
      ],
      "metadata": {
        "colab": {
          "base_uri": "https://localhost:8080/"
        },
        "id": "ZWqPmjjGOf-X",
        "outputId": "620eb900-1a90-4c1d-f48d-e56c86fe0aa5"
      },
      "execution_count": 44,
      "outputs": [
        {
          "output_type": "execute_result",
          "data": {
            "text/plain": [
              "array([[0.64791058],\n",
              "       [0.40472683]])"
            ]
          },
          "metadata": {},
          "execution_count": 44
        }
      ]
    },
    {
      "cell_type": "markdown",
      "source": [
        "**Завдання 12.** Створіть дві матриці розміром 5x5, заповніть їх випадковими цілими числами в діапазоні від 1 до 10 та знайдіть відношення першої матриці до другої (поелементне ділення)."
      ],
      "metadata": {
        "id": "I_krqQwJ_gtc"
      }
    },
    {
      "cell_type": "code",
      "source": [
        "#перша матриця\n",
        "matrix12_1 = np.random.randint(1, 11, size=(3, 4))\n",
        "matrix12_1"
      ],
      "metadata": {
        "colab": {
          "base_uri": "https://localhost:8080/"
        },
        "id": "-tZhzoon_oB8",
        "outputId": "77437bfd-62c9-4e6e-a0bb-1137662be393"
      },
      "execution_count": 45,
      "outputs": [
        {
          "output_type": "execute_result",
          "data": {
            "text/plain": [
              "array([[ 8,  4,  1,  3],\n",
              "       [ 6,  8,  9,  5],\n",
              "       [ 6, 10,  1,  9]])"
            ]
          },
          "metadata": {},
          "execution_count": 45
        }
      ]
    },
    {
      "cell_type": "code",
      "source": [
        "#друга матриця\n",
        "matrix12_2 = np.random.randint(1, 11, size=(3, 4))\n",
        "matrix12_2"
      ],
      "metadata": {
        "colab": {
          "base_uri": "https://localhost:8080/"
        },
        "id": "MOGiJ9v2PCkK",
        "outputId": "02fe6779-5284-4846-f4d5-a18ffcb4a502"
      },
      "execution_count": 46,
      "outputs": [
        {
          "output_type": "execute_result",
          "data": {
            "text/plain": [
              "array([[ 6,  7,  2,  8],\n",
              "       [10,  1,  9,  8],\n",
              "       [ 6,  4, 10,  4]])"
            ]
          },
          "metadata": {},
          "execution_count": 46
        }
      ]
    },
    {
      "cell_type": "code",
      "source": [
        "#відношення першої матриці до другої (поелементне ділення)\n",
        "#оскільки матриці не містять елементів, що дорівнюють 0, то можемо просто ділити за допомогою \"/\"\n",
        "matrix12_1 / matrix12_2"
      ],
      "metadata": {
        "colab": {
          "base_uri": "https://localhost:8080/"
        },
        "id": "OqQRoKRQPI5y",
        "outputId": "2ca2dcd8-23da-4723-c2cd-4b8f2b8aba37"
      },
      "execution_count": 47,
      "outputs": [
        {
          "output_type": "execute_result",
          "data": {
            "text/plain": [
              "array([[1.33333333, 0.57142857, 0.5       , 0.375     ],\n",
              "       [0.6       , 8.        , 1.        , 0.625     ],\n",
              "       [1.        , 2.5       , 0.1       , 2.25      ]])"
            ]
          },
          "metadata": {},
          "execution_count": 47
        }
      ]
    },
    {
      "cell_type": "markdown",
      "source": [
        "**Завдання 13.** Створіть дві матриці розміром 5x5, заповніть їх випадковими цілими числами в діапазоні від 1 до 10 та знайдіть суму їх елементів."
      ],
      "metadata": {
        "id": "NntczM1T_oSk"
      }
    },
    {
      "cell_type": "code",
      "source": [
        "#перша матриця\n",
        "matrix13_1 = np.random.randint(1, 11, size=(5, 5))\n",
        "matrix13_1"
      ],
      "metadata": {
        "colab": {
          "base_uri": "https://localhost:8080/"
        },
        "id": "BT3TO6VQ_yOR",
        "outputId": "731f9df8-2047-44d3-9262-67e0ab25a6e8"
      },
      "execution_count": 49,
      "outputs": [
        {
          "output_type": "execute_result",
          "data": {
            "text/plain": [
              "array([[ 4,  6,  6,  2,  5],\n",
              "       [10,  4,  4,  3,  8],\n",
              "       [ 7,  1, 10,  8,  5],\n",
              "       [ 6,  2, 10,  7,  5],\n",
              "       [ 6,  3,  6,  5,  6]])"
            ]
          },
          "metadata": {},
          "execution_count": 49
        }
      ]
    },
    {
      "cell_type": "code",
      "source": [
        "#друга матриця\n",
        "matrix13_2 = np.random.randint(1, 11, size=(5, 5))\n",
        "matrix13_2"
      ],
      "metadata": {
        "colab": {
          "base_uri": "https://localhost:8080/"
        },
        "id": "_qnvZ7GeQj_S",
        "outputId": "d73d8f03-0a17-4d72-d68b-9b9267ffc36c"
      },
      "execution_count": 50,
      "outputs": [
        {
          "output_type": "execute_result",
          "data": {
            "text/plain": [
              "array([[ 6,  1,  5,  8,  9],\n",
              "       [ 4,  7,  2,  1,  2],\n",
              "       [ 1,  6,  8, 10,  7],\n",
              "       [ 8,  3,  9,  6,  6],\n",
              "       [ 8,  9,  2,  4,  9]])"
            ]
          },
          "metadata": {},
          "execution_count": 50
        }
      ]
    },
    {
      "cell_type": "code",
      "source": [
        "#сума елементів першої матриці\n",
        "sum1 = np.sum(matrix13_1)\n",
        "sum1"
      ],
      "metadata": {
        "colab": {
          "base_uri": "https://localhost:8080/"
        },
        "id": "gtfk6dO0Q7wt",
        "outputId": "15f50a70-2e06-4ffe-c507-995672cefa2a"
      },
      "execution_count": 53,
      "outputs": [
        {
          "output_type": "execute_result",
          "data": {
            "text/plain": [
              "np.int64(139)"
            ]
          },
          "metadata": {},
          "execution_count": 53
        }
      ]
    },
    {
      "cell_type": "code",
      "source": [
        "#сума елементів другої матриці\n",
        "sum2 = np.sum(matrix13_2)\n",
        "sum2"
      ],
      "metadata": {
        "colab": {
          "base_uri": "https://localhost:8080/"
        },
        "id": "wrTxkL4jQ8CF",
        "outputId": "d9326044-cfc5-4a77-be8d-8ad6680a3179"
      },
      "execution_count": 54,
      "outputs": [
        {
          "output_type": "execute_result",
          "data": {
            "text/plain": [
              "np.int64(141)"
            ]
          },
          "metadata": {},
          "execution_count": 54
        }
      ]
    },
    {
      "cell_type": "code",
      "source": [
        "#загальна сума елементів обох матриць\n",
        "sum1 + sum2"
      ],
      "metadata": {
        "colab": {
          "base_uri": "https://localhost:8080/"
        },
        "id": "DoqcoF6BQ9qF",
        "outputId": "888b4ad2-2318-4a44-9841-2295e25d8643"
      },
      "execution_count": 55,
      "outputs": [
        {
          "output_type": "execute_result",
          "data": {
            "text/plain": [
              "np.int64(280)"
            ]
          },
          "metadata": {},
          "execution_count": 55
        }
      ]
    },
    {
      "cell_type": "markdown",
      "source": [
        "**Завдання 14.** Створіть матрицю розміром 3x3, заповніть її випадковими цілими числами в діапазоні від 1 до 10 та знайдіть добуток елементів матриці."
      ],
      "metadata": {
        "id": "bj6vpBnv_yax"
      }
    },
    {
      "cell_type": "code",
      "source": [
        "#матриця розміром 3x3, що заповнена цілими числами від 1 до 10\n",
        "matrix14 = np.random.randint(1, 11, size=(3, 3))\n",
        "matrix14"
      ],
      "metadata": {
        "colab": {
          "base_uri": "https://localhost:8080/"
        },
        "id": "sB-WFXgc_4Na",
        "outputId": "d38832f8-0125-40b4-8098-348325bb884b"
      },
      "execution_count": 57,
      "outputs": [
        {
          "output_type": "execute_result",
          "data": {
            "text/plain": [
              "array([[ 3, 10,  9],\n",
              "       [ 2,  8, 10],\n",
              "       [ 4,  4, 10]])"
            ]
          },
          "metadata": {},
          "execution_count": 57
        }
      ]
    },
    {
      "cell_type": "code",
      "source": [
        "#добуток елементів матриці\n",
        "np.prod(matrix14)"
      ],
      "metadata": {
        "colab": {
          "base_uri": "https://localhost:8080/"
        },
        "id": "BgJdK9wgR6P5",
        "outputId": "f5237d3e-5125-4c6f-b868-4bd976d60432"
      },
      "execution_count": 58,
      "outputs": [
        {
          "output_type": "execute_result",
          "data": {
            "text/plain": [
              "np.int64(6912000)"
            ]
          },
          "metadata": {},
          "execution_count": 58
        }
      ]
    },
    {
      "cell_type": "markdown",
      "source": [
        "**Завдання 15.** Створіть матрицю розміром 6x6, заповніть її випадковими дійсними числами в діапазоні від -2 до 2 та знайдіть вектор-стовпчик, що містить середнє арифметичне значення елементів кожного рядка матриці."
      ],
      "metadata": {
        "id": "G60o2fqV_4do"
      }
    },
    {
      "cell_type": "code",
      "source": [
        "#матриця розміром 6x6, що заповнена дійсними числами від -2 до 2\n",
        "matrix15 = np.random.uniform(-2, 2, size=(6, 6))\n",
        "matrix15"
      ],
      "metadata": {
        "colab": {
          "base_uri": "https://localhost:8080/"
        },
        "id": "BbEKFfPgAEIQ",
        "outputId": "c80aed52-e51f-4c11-b4d3-80d16d53f42a"
      },
      "execution_count": 60,
      "outputs": [
        {
          "output_type": "execute_result",
          "data": {
            "text/plain": [
              "array([[ 0.13477648, -1.90072468,  0.92136148,  1.18118897,  1.70935603,\n",
              "        -1.43366566],\n",
              "       [ 0.43795209,  0.64639712, -1.762486  ,  1.48194113, -0.73816653,\n",
              "        -1.25458272],\n",
              "       [ 0.94574104,  0.93117719, -0.15496763,  0.9877557 ,  0.76873884,\n",
              "         0.07685989],\n",
              "       [ 0.40735058, -0.06343205, -1.44523637,  0.06800759, -1.8918255 ,\n",
              "        -0.85399204],\n",
              "       [ 0.90126129,  0.94351387,  1.4191488 , -1.7690714 , -0.15513408,\n",
              "         1.43256521],\n",
              "       [ 1.22672204, -0.67976326, -0.13798022, -1.71631759,  1.02282207,\n",
              "        -1.30771645]])"
            ]
          },
          "metadata": {},
          "execution_count": 60
        }
      ]
    },
    {
      "cell_type": "code",
      "source": [
        "mean = matrix15.mean(axis=1) #axis=1 означає, що ми обчислюємо середнє значення по рядкам\n",
        "mean"
      ],
      "metadata": {
        "colab": {
          "base_uri": "https://localhost:8080/"
        },
        "id": "0HKkN_vlSy2p",
        "outputId": "519474af-8da2-4ad3-990a-a3db62b53c9c"
      },
      "execution_count": 66,
      "outputs": [
        {
          "output_type": "execute_result",
          "data": {
            "text/plain": [
              "array([ 0.10204877, -0.19815749,  0.59255084, -0.62985463,  0.46204728,\n",
              "       -0.26537223])"
            ]
          },
          "metadata": {},
          "execution_count": 66
        }
      ]
    },
    {
      "cell_type": "code",
      "source": [
        "mean.reshape(6,1) #перетворюємо вектор-рядок на вектор-стовпчик"
      ],
      "metadata": {
        "colab": {
          "base_uri": "https://localhost:8080/"
        },
        "id": "-_8gpT1yU26c",
        "outputId": "cb1df054-18a6-4f8c-b4c1-a26f4ef8cb65"
      },
      "execution_count": 68,
      "outputs": [
        {
          "output_type": "execute_result",
          "data": {
            "text/plain": [
              "array([[ 0.10204877],\n",
              "       [-0.19815749],\n",
              "       [ 0.59255084],\n",
              "       [-0.62985463],\n",
              "       [ 0.46204728],\n",
              "       [-0.26537223]])"
            ]
          },
          "metadata": {},
          "execution_count": 68
        }
      ]
    },
    {
      "cell_type": "markdown",
      "source": [
        "**Висновок:** Отже, під час виконання даної лабораторної роботи були закріплені навички роботи з одновимірними і багатовимірними масивами даних, що є важливим для подальшого вивчення методів і алгоритмів машинного навчання. Зокрема, було створено матриці різних розмірів, що заповнюються цілими або дійсними числами, знайдено їх обернені та транспоновані матриці, здійснено ряд математичних операцій над матрицями: додавання, віднімання, ділення, множення тощо. Також досліджено статистичний показник для однієї з матриць - середнє арифметичне значення елементів кожного рядка заданої матриці."
      ],
      "metadata": {
        "id": "-TzeF2g5AEco"
      }
    }
  ]
}